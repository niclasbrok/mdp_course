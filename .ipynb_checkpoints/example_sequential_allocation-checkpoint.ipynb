{
 "cells": [
  {
   "cell_type": "markdown",
   "metadata": {},
   "source": [
    "# Example: The Sequential Allocation Problem"
   ]
  },
  {
   "cell_type": "code",
   "execution_count": 95,
   "metadata": {},
   "outputs": [],
   "source": [
    "import numpy as np\n",
    "from scipy.optimize import minimize\n",
    "import matplotlib.pyplot as plt"
   ]
  },
  {
   "cell_type": "markdown",
   "metadata": {
    "collapsed": true
   },
   "source": [
    "Let $M$ denote units of resources.\n",
    "\n",
    "Let $N$ denote the nunmber of periods.\n",
    "\n",
    "Let $x_k$ denote the resource consumed in period $k$.\n",
    "\n",
    "Let $f$ denote the utility function of the investments.\n",
    "\n",
    "Optimization problem:\n",
    "\n",
    "\\begin{equation*}\n",
    "\\max_{x\\in\\mathbb{R}_+^N}\\ f(x)\\quad \\text{s.t}\\quad \\sum_{k=1}^N x_k = M\n",
    "\\end{equation*}\n",
    "\n",
    "Let the state at time $k$ denote the resources available in $k+1,...,N$.\n",
    "\n",
    "Let the action represent the amount to be invested in period $k$.\n",
    "\n",
    "Hence,\n",
    "\n",
    "* Decision epochs, $T=\\{1,...,N\\}$,\n",
    "* States, $S=(0,M)$,\n",
    "* Actions, $A_s = (0,s)$.\n",
    "\n",
    "We will also assume that the utility function is \\emph{separable} - that is,\n",
    "\n",
    "\\begin{align*}\n",
    "f(x) = \\sum_{k=1}^N g_k(x_k),\\quad \\left\\{ x=(x_1,...,x_N)^\\top \\right\\}\n",
    "\\end{align*}\n",
    "\n",
    "Hence,\n",
    "\n",
    "* Intermediate rewards, $r_k(s,a)=g_k(a)$,\n",
    "* End reward, $r_N(s)=g_N(s)$,\n",
    "\n",
    "with conditional probabilities,\n",
    "\n",
    "\\begin{align*}\n",
    "p_k(j\\mid s,a)\\left\\{\\begin{matrix}\n",
    "1,\\quad j=s-a\\\\ \n",
    "0,\\quad \\text{otherwise}\n",
    "\\end{matrix}\\right.\n",
    "\\end{align*}\n",
    "\n",
    "In this example, we will consider the functions,\n",
    "\n",
    "\\begin{align*}\n",
    "g_k(\\xi) = \\xi^2.\n",
    "\\end{align*}\n",
    "\n",
    "Hence, the optimization problem becomes,\n",
    "\n",
    "\\begin{align*}\n",
    "\\max_{x\\in\\mathbb{R}_+^N}\\ \\sum_{k=1}^N x_k^2\\quad \\text{s.t}\\quad \\sum_{k=1}^N x_k = M\n",
    "\\end{align*}"
   ]
  },
  {
   "cell_type": "markdown",
   "metadata": {},
   "source": [
    "## Parameters"
   ]
  },
  {
   "cell_type": "code",
   "execution_count": 88,
   "metadata": {},
   "outputs": [],
   "source": [
    "n = 25\n",
    "m = 100"
   ]
  },
  {
   "cell_type": "markdown",
   "metadata": {},
   "source": [
    "## Analytical Soluton by Backward Induction"
   ]
  },
  {
   "cell_type": "code",
   "execution_count": 94,
   "metadata": {},
   "outputs": [],
   "source": [
    "sol = np.ones(n) * (m / n)"
   ]
  },
  {
   "cell_type": "markdown",
   "metadata": {},
   "source": [
    "## Verification by Raw Optimization"
   ]
  },
  {
   "cell_type": "code",
   "execution_count": 72,
   "metadata": {},
   "outputs": [],
   "source": [
    "def f(x, args):\n",
    "    _f = 0.0\n",
    "    _gradfdx = np.zeros(x.size)\n",
    "    for k in range(0, x.size):\n",
    "        _f += x[k] * x[k]\n",
    "        _gradfdx[k] = x[k]\n",
    "    return 0.5 * _f, _gradfdx\n",
    "\n",
    "def ceq(x, args):\n",
    "    m = args[0]\n",
    "    return np.sum(x) - m\n",
    "\n",
    "def dceqdx(x, args):\n",
    "    return np.ones((1, x.size))\n",
    "\n",
    "def cineq(x, args):\n",
    "    return x\n",
    "\n",
    "def dcineqdx(x, args):\n",
    "    return np.eye(x.size)"
   ]
  },
  {
   "cell_type": "code",
   "execution_count": 73,
   "metadata": {},
   "outputs": [],
   "source": [
    "args = (m, )\n",
    "cons = ({'type': 'eq',   'fun': ceq,   'jac': dceqdx,   'args': (args, )},\n",
    "        {'type': 'ineq', 'fun': cineq, 'jac': dcineqdx, 'args': (args, )})\n",
    "x0 = np.zeros(n)"
   ]
  },
  {
   "cell_type": "code",
   "execution_count": 92,
   "metadata": {},
   "outputs": [
    {
     "name": "stdout",
     "output_type": "stream",
     "text": [
      "Optimization terminated successfully.    (Exit mode 0)\n",
      "            Current function value: 200.00000000000023\n",
      "            Iterations: 2\n",
      "            Function evaluations: 2\n",
      "            Gradient evaluations: 2\n"
     ]
    }
   ],
   "source": [
    "qp_sol = minimize(f, x0, args=(args, ), method='SLSQP', jac=True, constraints=cons, options={'disp': True})"
   ]
  },
  {
   "cell_type": "code",
   "execution_count": 93,
   "metadata": {},
   "outputs": [
    {
     "data": {
      "image/png": "[encoded data removed]",
      "text/plain": [
       "<matplotlib.figure.Figure at 0x1169b0898>"
      ]
     },
     "metadata": {},
     "output_type": "display_data"
    }
   ],
   "source": [
    "fig = plt.figure(figsize=(18, 7))\n",
    "ax = fig.add_subplot(111)\n",
    "ax.bar(np.arange(1, n + 1), qp_sol.x);\n",
    "ax.grid()\n",
    "tmp = ax.get_xticks()\n",
    "tmp[0] = 1\n",
    "ax.set_xticks(tmp)\n",
    "ax.set_xlim(left=0, right=26);"
   ]
  }
 ],
 "metadata": {
  "kernelspec": {
   "display_name": "Python 3",
   "language": "python",
   "name": "python3"
  },
  "language_info": {
   "codemirror_mode": {
    "name": "ipython",
    "version": 3
   },
   "file_extension": ".py",
   "mimetype": "text/x-python",
   "name": "python",
   "nbconvert_exporter": "python",
   "pygments_lexer": "ipython3",
   "version": "3.6.4"
  }
 },
 "nbformat": 4,
 "nbformat_minor": 1
}
